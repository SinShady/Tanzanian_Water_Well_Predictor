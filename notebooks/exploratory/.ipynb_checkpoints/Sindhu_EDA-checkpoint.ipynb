{
 "cells": [
  {
   "cell_type": "code",
   "execution_count": null,
   "metadata": {},
   "outputs": [],
   "source": [
    "import pandas as pd\n",
    "import numpy as np\n",
    "from sklearn.model_selection import train_test_split, cross_val_score\n",
    "from sklearn.impute import SimpleImputer\n",
    "from sklearn.preprocessing import StandardScaler, OneHotEncoder\n",
    "from sklearn.linear_model import LogisticRegression\n",
    "from sklearn.metrics import accuracy_score, recall_score, precision_score, f1_score, plot_confusion_matrix\n",
    "from sklearn.model_selection import cross_val_score, GridSearchCV"
   ]
  },
  {
   "cell_type": "markdown",
   "metadata": {},
   "source": [
    "For more information about features:\n",
    "https://www.drivendata.org/competitions/7/pump-it-up-data-mining-the-water-table/page/25/"
   ]
  },
  {
   "cell_type": "code",
   "execution_count": 133,
   "metadata": {},
   "outputs": [],
   "source": [
    "# amount_tsh - Total static head (amount water available to waterpoint)\n",
    "# date_recorded - The date the row was entered - do not include\n",
    "# funder - Who funded the well\n",
    "# gps_height - Altitude of the well\n",
    "# installer - Organization that installed the well\n",
    "# longitude - GPS coordinate - do not include\n",
    "# latitude - GPS coordinate - do not include\n",
    "# wpt_name - Name of the waterpoint if there is one\n",
    "# num_private -\n",
    "# basin - Geographic water basin\n",
    "# subvillage - Geographic location\n",
    "# region - Geographic location\n",
    "# region_code - Geographic location (coded)\n",
    "# district_code - Geographic location (coded)\n",
    "# lga - Geographic location\n",
    "# ward - Geographic location\n",
    "# population - Population around the well\n",
    "# public_meeting - True/False - ?\n",
    "# recorded_by - Group entering this row of data\n",
    "# scheme_management - Who operates the waterpoint\n",
    "# scheme_name - Who operates the waterpoint\n",
    "# permit - If the waterpoint is permitted\n",
    "# construction_year - Year the waterpoint was constructed\n",
    "# extraction_type - The kind of extraction the waterpoint uses\n",
    "# extraction_type_group - The kind of extraction the waterpoint uses\n",
    "# extraction_type_class - The kind of extraction the waterpoint uses\n",
    "# management - How the waterpoint is managed\n",
    "# management_group - How the waterpoint is managed\n",
    "# payment - What the water costs\n",
    "# payment_type - What the water costs\n",
    "# water_quality - The quality of the water\n",
    "# quality_group - The quality of the water\n",
    "# quantity - The quantity of water\n",
    "# quantity_group - The quantity of water\n",
    "# source - The source of the water\n",
    "# source_type - The source of the water\n",
    "# source_class - The source of the water\n",
    "# waterpoint_type - The kind of waterpoint\n",
    "# waterpoint_type_group - The kind of waterpoint"
   ]
  },
  {
   "cell_type": "markdown",
   "metadata": {},
   "source": [
    "## Import Data"
   ]
  },
  {
   "cell_type": "code",
   "execution_count": 150,
   "metadata": {},
   "outputs": [],
   "source": [
    "X = pd.read_csv(\"../../references/training_set_values.csv\", index_col = 'id')"
   ]
  },
  {
   "cell_type": "code",
   "execution_count": 151,
   "metadata": {},
   "outputs": [],
   "source": [
    "y = pd.read_csv(\"../../references/training_set_labels.csv\", index_col = 'id')['status_group']"
   ]
  },
  {
   "cell_type": "code",
   "execution_count": 152,
   "metadata": {},
   "outputs": [
    {
     "data": {
      "text/plain": [
       "object     30\n",
       "int64       6\n",
       "float64     3\n",
       "dtype: int64"
      ]
     },
     "execution_count": 152,
     "metadata": {},
     "output_type": "execute_result"
    }
   ],
   "source": [
    "X.dtypes.value_counts()"
   ]
  },
  {
   "cell_type": "code",
   "execution_count": 153,
   "metadata": {},
   "outputs": [],
   "source": [
    "# X.info()"
   ]
  },
  {
   "cell_type": "code",
   "execution_count": 154,
   "metadata": {},
   "outputs": [],
   "source": [
    "columns_with_na = ['permit', 'scheme_name', 'scheme_management', 'public_meeting', 'subvillage', 'installer', 'funder']\n",
    "columns_with_specific_location_and_names = ['ward', 'wpt_name']"
   ]
  },
  {
   "cell_type": "markdown",
   "metadata": {},
   "source": [
    "#### Drop Date and NA and unique identifier columns for now"
   ]
  },
  {
   "cell_type": "code",
   "execution_count": 155,
   "metadata": {},
   "outputs": [],
   "source": [
    "X.drop(columns_with_na, axis=1, inplace=True)"
   ]
  },
  {
   "cell_type": "code",
   "execution_count": 156,
   "metadata": {},
   "outputs": [],
   "source": [
    "X.drop(columns_with_specific_location_and_names, axis=1, inplace=True)"
   ]
  },
  {
   "cell_type": "code",
   "execution_count": 157,
   "metadata": {},
   "outputs": [],
   "source": [
    "X.drop('date_recorded', axis=1, inplace=True)"
   ]
  },
  {
   "cell_type": "markdown",
   "metadata": {},
   "source": [
    "#### Train Test Split"
   ]
  },
  {
   "cell_type": "code",
   "execution_count": 165,
   "metadata": {},
   "outputs": [],
   "source": [
    "X_train, X_test, y_train, y_test = train_test_split(X, y, test_size = .25)"
   ]
  },
  {
   "cell_type": "markdown",
   "metadata": {},
   "source": [
    "#### Split Data into continuous and categorical"
   ]
  },
  {
   "cell_type": "code",
   "execution_count": 166,
   "metadata": {},
   "outputs": [],
   "source": [
    "X_train_cat = X_train.select_dtypes(include='object')\n",
    "X_train_cont = X_train.select_dtypes(exclude='object')\n",
    "X_test_cat = X_test.select_dtypes(include='object')\n",
    "X_test_cont = X_test.select_dtypes(exclude='object')"
   ]
  },
  {
   "cell_type": "markdown",
   "metadata": {},
   "source": [
    "#### Simple Imputer to fill null numeric values"
   ]
  },
  {
   "cell_type": "code",
   "execution_count": 167,
   "metadata": {},
   "outputs": [],
   "source": [
    "si = SimpleImputer()\n",
    "X_train_imp = pd.DataFrame(si.fit_transform(X_train_cont), index = X_train_cont.index, columns = X_train_cont.columns)\n",
    "X_test_imp = pd.DataFrame(si.transform(X_test_cont), index = X_test_cont.index, columns = X_test_cont.columns)"
   ]
  },
  {
   "cell_type": "markdown",
   "metadata": {},
   "source": [
    "#### Standard Scaler to scale numeric values"
   ]
  },
  {
   "cell_type": "code",
   "execution_count": 168,
   "metadata": {},
   "outputs": [],
   "source": [
    "ss = StandardScaler()\n",
    "X_train_sc = pd.DataFrame(ss.fit_transform(X_train_imp), index = X_train_imp.index, columns = X_train_imp.columns)\n",
    "X_test_sc = pd.DataFrame(ss.transform(X_test_imp), index = X_test_imp.index, columns = X_test_imp.columns)"
   ]
  },
  {
   "cell_type": "markdown",
   "metadata": {},
   "source": [
    "#### OneHotEncoder for categorical columns"
   ]
  },
  {
   "cell_type": "code",
   "execution_count": 169,
   "metadata": {
    "scrolled": true
   },
   "outputs": [],
   "source": [
    "# X_train_cat.info()"
   ]
  },
  {
   "cell_type": "code",
   "execution_count": 172,
   "metadata": {},
   "outputs": [],
   "source": [
    "ohe = OneHotEncoder(drop = 'if_binary', sparse = False)\n",
    "X_train_ohe = pd.DataFrame(ohe.fit_transform(X_train_cat),\n",
    "                          columns = ohe.get_feature_names(X_train_cat.columns), index = X_train_cat.index)\n",
    "X_test_ohe = pd.DataFrame(ohe.transform(X_test_cat),\n",
    "                          columns = ohe.get_feature_names(X_test_cat.columns), index = X_test_cat.index)"
   ]
  },
  {
   "cell_type": "markdown",
   "metadata": {},
   "source": [
    "#### Join numeric and object DataFrames back together after preprocessing"
   ]
  },
  {
   "cell_type": "code",
   "execution_count": 173,
   "metadata": {},
   "outputs": [],
   "source": [
    "X_train_fin = X_train_sc.join(X_train_ohe)\n",
    "X_test_fin = X_test_sc.join(X_test_ohe)"
   ]
  },
  {
   "cell_type": "markdown",
   "metadata": {},
   "source": [
    "#### Create a Baseline Model"
   ]
  },
  {
   "cell_type": "code",
   "execution_count": 176,
   "metadata": {},
   "outputs": [
    {
     "data": {
      "text/plain": [
       "LogisticRegression(max_iter=1000)"
      ]
     },
     "execution_count": 176,
     "metadata": {},
     "output_type": "execute_result"
    }
   ],
   "source": [
    "lr = LogisticRegression(max_iter=1000)\n",
    "lr.fit(X_train_fin, y_train)\n",
    "lr.score(X_train_fin, y_train)"
   ]
  },
  {
   "cell_type": "markdown",
   "metadata": {},
   "source": [
    "#### Score model on training data"
   ]
  },
  {
   "cell_type": "code",
   "execution_count": 180,
   "metadata": {},
   "outputs": [
    {
     "name": "stdout",
     "output_type": "stream",
     "text": [
      "Scores for our training data\n",
      "Accuracy Score: 0.7495847362514029\n"
     ]
    }
   ],
   "source": [
    "# Score on our training data\n",
    "y_pred = lr.predict(X_train_fin)\n",
    "print('Scores for our training data')\n",
    "print('Accuracy Score: ' + str(accuracy_score(y_train, y_pred)))"
   ]
  },
  {
   "cell_type": "code",
   "execution_count": null,
   "metadata": {},
   "outputs": [],
   "source": [
    "val = cross_val_score(lr, X_train_fin, y_train, cv=5)\n",
    "val"
   ]
  },
  {
   "cell_type": "markdown",
   "metadata": {},
   "source": [
    "#### Score model on testing data"
   ]
  },
  {
   "cell_type": "code",
   "execution_count": 186,
   "metadata": {},
   "outputs": [
    {
     "data": {
      "text/plain": [
       "0.7482828282828283"
      ]
     },
     "execution_count": 186,
     "metadata": {},
     "output_type": "execute_result"
    }
   ],
   "source": [
    "lr.score(X_test_fin, y_test)"
   ]
  },
  {
   "cell_type": "code",
   "execution_count": null,
   "metadata": {},
   "outputs": [],
   "source": []
  }
 ],
 "metadata": {
  "kernelspec": {
   "display_name": "Python 3",
   "language": "python",
   "name": "python3"
  },
  "language_info": {
   "codemirror_mode": {
    "name": "ipython",
    "version": 3
   },
   "file_extension": ".py",
   "mimetype": "text/x-python",
   "name": "python",
   "nbconvert_exporter": "python",
   "pygments_lexer": "ipython3",
   "version": "3.6.9"
  }
 },
 "nbformat": 4,
 "nbformat_minor": 4
}
