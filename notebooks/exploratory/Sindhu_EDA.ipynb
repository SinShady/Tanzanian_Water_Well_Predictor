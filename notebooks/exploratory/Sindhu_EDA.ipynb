{
 "cells": [
  {
   "cell_type": "code",
   "execution_count": 30,
   "metadata": {},
   "outputs": [],
   "source": [
    "import pandas as pd\n",
    "import numpy as np\n",
    "from sklearn.model_selection import train_test_split\n",
    "from sklearn.impute import SimpleImputer\n",
    "from sklearn.preprocessing import StandardScaler\n",
    "from sklearn.linear_model import LogisticRegression\n",
    "from sklearn.metrics import accuracy_score, recall_score, precision_score, f1_score, plot_confusion_matrix\n",
    "from sklearn.model_selection import cross_val_score, GridSearchCV"
   ]
  },
  {
   "cell_type": "markdown",
   "metadata": {},
   "source": [
    "For more information about features:\n",
    "https://www.drivendata.org/competitions/7/pump-it-up-data-mining-the-water-table/page/25/"
   ]
  },
  {
   "cell_type": "code",
   "execution_count": 17,
   "metadata": {},
   "outputs": [],
   "source": [
    "# amount_tsh - Total static head (amount water available to waterpoint)\n",
    "# date_recorded - The date the row was entered - do not include\n",
    "# funder - Who funded the well\n",
    "# gps_height - Altitude of the well\n",
    "# installer - Organization that installed the well\n",
    "# longitude - GPS coordinate - do not include\n",
    "# latitude - GPS coordinate - do not include\n",
    "# wpt_name - Name of the waterpoint if there is one\n",
    "# num_private -\n",
    "# basin - Geographic water basin\n",
    "# subvillage - Geographic location\n",
    "# region - Geographic location\n",
    "# region_code - Geographic location (coded)\n",
    "# district_code - Geographic location (coded)\n",
    "# lga - Geographic location\n",
    "# ward - Geographic location\n",
    "# population - Population around the well\n",
    "# public_meeting - True/False - ?\n",
    "# recorded_by - Group entering this row of data\n",
    "# scheme_management - Who operates the waterpoint\n",
    "# scheme_name - Who operates the waterpoint\n",
    "# permit - If the waterpoint is permitted\n",
    "# construction_year - Year the waterpoint was constructed\n",
    "# extraction_type - The kind of extraction the waterpoint uses\n",
    "# extraction_type_group - The kind of extraction the waterpoint uses\n",
    "# extraction_type_class - The kind of extraction the waterpoint uses\n",
    "# management - How the waterpoint is managed\n",
    "# management_group - How the waterpoint is managed\n",
    "# payment - What the water costs\n",
    "# payment_type - What the water costs\n",
    "# water_quality - The quality of the water\n",
    "# quality_group - The quality of the water\n",
    "# quantity - The quantity of water\n",
    "# quantity_group - The quantity of water\n",
    "# source - The source of the water\n",
    "# source_type - The source of the water\n",
    "# source_class - The source of the water\n",
    "# waterpoint_type - The kind of waterpoint\n",
    "# waterpoint_type_group - The kind of waterpoint"
   ]
  },
  {
   "cell_type": "markdown",
   "metadata": {},
   "source": [
    "## Import Data"
   ]
  },
  {
   "cell_type": "code",
   "execution_count": 18,
   "metadata": {},
   "outputs": [
    {
     "data": {
      "text/plain": [
       "0      58643\n",
       "6         81\n",
       "1         73\n",
       "5         46\n",
       "8         46\n",
       "       ...  \n",
       "180        1\n",
       "213        1\n",
       "23         1\n",
       "55         1\n",
       "94         1\n",
       "Name: num_private, Length: 65, dtype: int64"
      ]
     },
     "execution_count": 18,
     "metadata": {},
     "output_type": "execute_result"
    }
   ],
   "source": [
    "X = pd.read_csv(\"../../references/training_set_values.csv\", index_col = 'id')\n",
    "X.num_private.value_counts()"
   ]
  },
  {
   "cell_type": "code",
   "execution_count": 39,
   "metadata": {},
   "outputs": [
    {
     "data": {
      "text/plain": [
       "dtype('O')"
      ]
     },
     "execution_count": 39,
     "metadata": {},
     "output_type": "execute_result"
    }
   ],
   "source": [
    "y = pd.read_csv(\"../../references/training_set_labels.csv\", index_col = 'id')\n",
    "y.head()\n",
    "y=np.array(y)\n",
    "y.dtype"
   ]
  },
  {
   "cell_type": "code",
   "execution_count": 35,
   "metadata": {},
   "outputs": [
    {
     "data": {
      "text/plain": [
       "object     30\n",
       "int64       6\n",
       "float64     3\n",
       "dtype: int64"
      ]
     },
     "execution_count": 35,
     "metadata": {},
     "output_type": "execute_result"
    }
   ],
   "source": [
    "X.dtypes.value_counts()"
   ]
  },
  {
   "cell_type": "code",
   "execution_count": 36,
   "metadata": {},
   "outputs": [],
   "source": [
    "X_cat = X.select_dtypes(include='object')\n",
    "X_cont = X.select_dtypes(exclude='object')"
   ]
  },
  {
   "cell_type": "code",
   "execution_count": null,
   "metadata": {},
   "outputs": [],
   "source": []
  },
  {
   "cell_type": "code",
   "execution_count": 37,
   "metadata": {},
   "outputs": [
    {
     "name": "stderr",
     "output_type": "stream",
     "text": [
      "C:\\Users\\Sin City\\anaconda3\\envs\\learn-env\\lib\\site-packages\\sklearn\\utils\\validation.py:72: DataConversionWarning: A column-vector y was passed when a 1d array was expected. Please change the shape of y to (n_samples, ), for example using ravel().\n",
      "  return f(**kwargs)\n"
     ]
    },
    {
     "data": {
      "text/plain": [
       "LogisticRegression(max_iter=1000)"
      ]
     },
     "execution_count": 37,
     "metadata": {},
     "output_type": "execute_result"
    }
   ],
   "source": [
    "X_train, X_test, y_train, y_test = train_test_split(X_cont, y, test_size = .25)\n",
    "lg = LogisticRegression(max_iter = 1000)\n",
    "lg.fit(X_train, y_train)"
   ]
  },
  {
   "cell_type": "code",
   "execution_count": null,
   "metadata": {},
   "outputs": [],
   "source": []
  }
 ],
 "metadata": {
  "kernelspec": {
   "display_name": "Python 3",
   "language": "python",
   "name": "python3"
  },
  "language_info": {
   "codemirror_mode": {
    "name": "ipython",
    "version": 3
   },
   "file_extension": ".py",
   "mimetype": "text/x-python",
   "name": "python",
   "nbconvert_exporter": "python",
   "pygments_lexer": "ipython3",
   "version": "3.6.9"
  }
 },
 "nbformat": 4,
 "nbformat_minor": 4
}
